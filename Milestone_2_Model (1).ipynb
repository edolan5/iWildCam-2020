{
 "cells": [
  {
   "cell_type": "code",
   "execution_count": null,
   "metadata": {},
   "outputs": [],
   "source": [
    "import numpy as np # linear algebra\n",
    "import pandas as pd # data processing, CSV file I/O (e.g. pd.read_csv)\n",
    "import seaborn as sns\n",
    "import matplotlib.pyplot as plt\n",
    "from PIL import Image, ImageFile\n",
    "ImageFile.LOAD_TRUNCATED_IMAGES = True\n",
    "\n",
    "# Input data files are available in the \"../input/\" directory.\n",
    "# For example, running this (by clicking run or pressing Shift+Enter) will list all files under the input directory\n",
    "import json\n",
    "import os\n",
    "from PIL import ImageDraw\n",
    "from datetime import datetime as dt\n",
    "import gc\n",
    "import collections\n",
    "\n",
    "from IPython.display import FileLink"
   ]
  },
  {
   "cell_type": "code",
   "execution_count": null,
   "metadata": {},
   "outputs": [],
   "source": [
    "with open('/home/ubuntu/iwildcam2020_megadetector_results.json', encoding='utf-8') as json_file:\n",
    "    megadetector_results =json.load(json_file)\n",
    "    \n",
    "megadetector_results.keys()"
   ]
  },
  {
   "cell_type": "code",
   "execution_count": null,
   "metadata": {},
   "outputs": [],
   "source": [
    "megadetector_results_df = pd.DataFrame(megadetector_results[\"images\"])\n",
    "megadetector_results_df.head()"
   ]
  },
  {
   "cell_type": "code",
   "execution_count": null,
   "metadata": {},
   "outputs": [],
   "source": [
    "def draw_bboxs(detections_list, im):\n",
    "    \"\"\"\n",
    "    detections_list: list of set includes bbox.\n",
    "    im: image read by Pillow.\n",
    "    \"\"\"\n",
    "    \n",
    "    for detection in detections_list:\n",
    "        x1, y1,w_box, h_box = detection[\"bbox\"]\n",
    "        ymin,xmin,ymax, xmax=y1, x1, y1 + h_box, x1 + w_box\n",
    "        draw = ImageDraw.Draw(im)\n",
    "        \n",
    "        imageWidth=im.size[0]\n",
    "        imageHeight= im.size[1]\n",
    "        (left, right, top, bottom) = (xmin * imageWidth, xmax * imageWidth,\n",
    "                                      ymin * imageHeight, ymax * imageHeight)\n",
    "        \n",
    "        draw.line([(left, top), (left, bottom), (right, bottom),\n",
    "               (right, top), (left, top)], width=4, fill='Red')"
   ]
  },
  {
   "cell_type": "code",
   "execution_count": null,
   "metadata": {},
   "outputs": [],
   "source": [
    "data_num = 8857\n",
    "im = Image.open(\"/home/ubuntu/train/\" + megadetector_results_df.loc[data_num]['id'] + \".jpg\")\n",
    "im = im.resize((480,270))\n",
    "draw_bboxs(megadetector_results_df.loc[data_num]['detections'], im)"
   ]
  },
  {
   "cell_type": "code",
   "execution_count": null,
   "metadata": {},
   "outputs": [],
   "source": [
    "plt.imshow(im)"
   ]
  },
  {
   "cell_type": "code",
   "execution_count": null,
   "metadata": {},
   "outputs": [],
   "source": [
    "def get_data(x):\n",
    "    if x == []:\n",
    "        return 0\n",
    "    return len(x)\n",
    "\n",
    "megadetector_results_df[\"detected_num\"] = megadetector_results_df.loc[:, \"detections\"].map(get_data)"
   ]
  },
  {
   "cell_type": "code",
   "execution_count": null,
   "metadata": {},
   "outputs": [],
   "source": [
    "ax = sns.countplot(x=\"detected_num\", data=megadetector_results_df)\n",
    "ax.set(ylabel='count')\n",
    "#ax.set(ylim=(0,80000))\n",
    "plt.title('distribution of count per animals each data of train')"
   ]
  },
  {
   "cell_type": "code",
   "execution_count": null,
   "metadata": {},
   "outputs": [],
   "source": [
    "megadetector_results_df = megadetector_results_df[megadetector_results_df['detected_num'] < 2]\n",
    "megadetector_results_df = megadetector_results_df.rename(columns={'id': 'image_id'})\n",
    "megadetector_results_df.head()"
   ]
  },
  {
   "cell_type": "code",
   "execution_count": null,
   "metadata": {},
   "outputs": [],
   "source": [
    "with open('/home/ubuntu/iwildcam2020_train_annotations.json') as json_file:\n",
    "    train_annotations_json = json.load(json_file)"
   ]
  },
  {
   "cell_type": "code",
   "execution_count": null,
   "metadata": {},
   "outputs": [],
   "source": [
    "train_annotations_json.keys()"
   ]
  },
  {
   "cell_type": "code",
   "execution_count": null,
   "metadata": {},
   "outputs": [],
   "source": [
    "df_annotations = pd.DataFrame(train_annotations_json[\"annotations\"])"
   ]
  },
  {
   "cell_type": "code",
   "execution_count": null,
   "metadata": {},
   "outputs": [],
   "source": [
    "df_annotations.head()"
   ]
  },
  {
   "cell_type": "code",
   "execution_count": null,
   "metadata": {},
   "outputs": [],
   "source": [
    "df_images = pd.DataFrame(train_annotations_json[\"images\"])"
   ]
  },
  {
   "cell_type": "code",
   "execution_count": null,
   "metadata": {},
   "outputs": [],
   "source": [
    "df_images.head()"
   ]
  },
  {
   "cell_type": "code",
   "execution_count": null,
   "metadata": {},
   "outputs": [],
   "source": [
    "df_categories = pd.DataFrame(train_annotations_json[\"categories\"])"
   ]
  },
  {
   "cell_type": "code",
   "execution_count": null,
   "metadata": {},
   "outputs": [],
   "source": [
    "df_categories.head()"
   ]
  },
  {
   "cell_type": "code",
   "execution_count": null,
   "metadata": {},
   "outputs": [],
   "source": [
    "print(f\"There are {len(df_categories) - 1} species\")"
   ]
  },
  {
   "cell_type": "code",
   "execution_count": null,
   "metadata": {},
   "outputs": [],
   "source": [
    "df_annotations.to_csv(\"iwildcam2020_train_annotations_annotations.csv\", index=False)\n",
    "df_images.to_csv(\"iwildcam2020_train_annotations_images.csv\", index=False)\n",
    "df_categories.to_csv(\"iwildcam2020_train_annotations_categories.csv\", index=False)"
   ]
  },
  {
   "cell_type": "code",
   "execution_count": null,
   "metadata": {},
   "outputs": [],
   "source": [
    "with open('/home/ubuntu/iwildcam2020_test_information.json') as json_file:\n",
    "    test_information_json = json.load(json_file)"
   ]
  },
  {
   "cell_type": "code",
   "execution_count": null,
   "metadata": {},
   "outputs": [],
   "source": [
    "test_information_json.keys()"
   ]
  },
  {
   "cell_type": "code",
   "execution_count": null,
   "metadata": {},
   "outputs": [],
   "source": [
    "df_images_test = pd.DataFrame(test_information_json[\"images\"])\n",
    "df_images_test.head()"
   ]
  },
  {
   "cell_type": "code",
   "execution_count": null,
   "metadata": {},
   "outputs": [],
   "source": [
    "df_categories_test = pd.DataFrame(test_information_json[\"categories\"])\n",
    "df_categories_test.head()"
   ]
  },
  {
   "cell_type": "code",
   "execution_count": null,
   "metadata": {},
   "outputs": [],
   "source": [
    "df_images_test.to_csv(\"iwildcam2020_train_annotations_images_test.csv\", index=False)\n",
    "df_categories_test.to_csv(\"iwildcam2020_train_annotations_categories_test.csv\", index=False)"
   ]
  },
  {
   "cell_type": "code",
   "execution_count": null,
   "metadata": {},
   "outputs": [],
   "source": [
    "month_year = df_images['datetime'].map(lambda str: str[2:7])\n",
    "labels_month_year = sorted(list(set(month_year)))\n",
    "\n",
    "month_year_test = df_images_test['datetime'].map(lambda str: str[2:7])"
   ]
  },
  {
   "cell_type": "code",
   "execution_count": null,
   "metadata": {},
   "outputs": [],
   "source": [
    "fig, ax = plt.subplots(1,2, figsize=(30,7))\n",
    "ax = plt.subplot(1,2,1)\n",
    "ax = plt.title('Count of train data per month & year')\n",
    "ax = sns.countplot(month_year, order=labels_month_year)\n",
    "ax.set(xlabel='YY-mm', ylabel='count')\n",
    "ax.set(ylim=(0,50000))\n",
    "\n",
    "ax = plt.subplot(1,2,2)\n",
    "ax = plt.title('Count of test data per month & year')\n",
    "\n",
    "ax = sns.countplot(month_year_test, order=labels_month_year)\n",
    "ax.set(xlabel='YY-mm', ylabel='count')\n",
    "ax.set(ylim=(0,50000))"
   ]
  },
  {
   "cell_type": "code",
   "execution_count": null,
   "metadata": {},
   "outputs": [],
   "source": [
    "labels_month = sorted(list(set(df_images['datetime'].map(lambda str: str[5:7]))))"
   ]
  },
  {
   "cell_type": "code",
   "execution_count": null,
   "metadata": {},
   "outputs": [],
   "source": [
    "ax = plt.subplot(1,2,1)\n",
    "plt.title('Count of train data per month')\n",
    "ax = sns.countplot(df_images['datetime'].map(lambda str: str[5:7] ), order=labels_month)\n",
    "ax.set(xlabel='mm', ylabel='count')\n",
    "ax.set(ylim=(0,55000))\n",
    "\n",
    "ax = plt.subplot(1,2,2)\n",
    "plt.title('Count of test data per month')\n",
    "ax = sns.countplot(df_images_test['datetime'].map(lambda str: str[5:7] ), order=labels_month)\n",
    "ax.set(xlabel='mm', ylabel='count')\n",
    "ax.set(ylim=(0,55000))"
   ]
  },
  {
   "cell_type": "code",
   "execution_count": null,
   "metadata": {},
   "outputs": [],
   "source": [
    "train_taken_hour = df_images['datetime'].map(lambda x: dt.strptime(x, '%Y-%m-%d %H:%M:%S.%f').hour)\n",
    "test_taken_hour = df_images_test['datetime'].map(lambda x: dt.strptime(x, '%Y-%m-%d %H:%M:%S.%f').hour)"
   ]
  },
  {
   "cell_type": "code",
   "execution_count": null,
   "metadata": {},
   "outputs": [],
   "source": [
    "fig, ax = plt.subplots(1,2, figsize=(20,7))\n",
    "ax = plt.subplot(1,2,1)\n",
    "plt.title('Count of train data per hour')\n",
    "ax = sns.countplot(train_taken_hour)\n",
    "ax.set(xlabel='hour', ylabel='count')\n",
    "ax.set(ylim=(0,20000))\n",
    "\n",
    "ax = plt.subplot(1,2,2)\n",
    "plt.title('Count of test data per hour')\n",
    "ax = sns.countplot(test_taken_hour)\n",
    "ax.set(xlabel='hour', ylabel='count')\n",
    "ax.set(ylim=(0,20000))"
   ]
  },
  {
   "cell_type": "code",
   "execution_count": null,
   "metadata": {},
   "outputs": [],
   "source": [
    "train_taken_phase = train_taken_hour.map(lambda x: \"daytime\" if x >= 6 and x < 18 else \"night\")\n",
    "test_taken_phase = test_taken_hour.map(lambda x: \"daytime\" if x >= 6 and x < 18 else \"night\")"
   ]
  },
  {
   "cell_type": "code",
   "execution_count": null,
   "metadata": {},
   "outputs": [],
   "source": [
    "fig, ax = plt.subplots(1,2, figsize=(20,7))\n",
    "ax = plt.subplot(1,2,1)\n",
    "plt.title('Count of train data per phase')\n",
    "ax = sns.countplot(train_taken_phase, order=[\"daytime\", \"night\"])\n",
    "ax.set(xlabel='phase', ylabel='count')\n",
    "ax.set(ylim=(0,200000))\n",
    "\n",
    "ax = plt.subplot(1,2,2)\n",
    "plt.title('Count of test data per phase')\n",
    "ax = sns.countplot(test_taken_phase, order=[\"daytime\", \"night\"])\n",
    "ax.set(xlabel='phase', ylabel='count')\n",
    "ax.set(ylim=(0,200000))"
   ]
  },
  {
   "cell_type": "code",
   "execution_count": null,
   "metadata": {},
   "outputs": [],
   "source": [
    "del train_taken_phase\n",
    "del test_taken_phase\n",
    "del train_taken_hour\n",
    "del test_taken_hour\n",
    "gc.collect()"
   ]
  },
  {
   "cell_type": "code",
   "execution_count": null,
   "metadata": {},
   "outputs": [],
   "source": [
    "fig = plt.figure(figsize=(15, 9))\n",
    "ax = sns.distplot(df_categories['count'][1:])\n",
    "ax.set(ylim=(0,0.00005))\n",
    "ax.set(xlabel='count')\n",
    "plt.title('distribution of number of data per id zoomed')"
   ]
  },
  {
   "cell_type": "code",
   "execution_count": null,
   "metadata": {},
   "outputs": [],
   "source": [
    "labels_location_train = sorted(list(set(df_images['location'])))\n",
    "labels_location_test = sorted(list(set(df_images_test['location'])))\n",
    "labels_location = labels_location_train + labels_location_test"
   ]
  },
  {
   "cell_type": "code",
   "execution_count": null,
   "metadata": {},
   "outputs": [],
   "source": [
    "loc_cat_df_test = pd.merge(df_images, df_annotations, left_on='id', right_on='image_id', how = \"inner\").loc[:,[\"location\", \"category_id\", \"image_id\"]]\n",
    "loc_cat_df_test.head()"
   ]
  },
  {
   "cell_type": "code",
   "execution_count": null,
   "metadata": {},
   "outputs": [],
   "source": [
    "loc_cat_dict = {}\n",
    "for loc in set(loc_cat_df_test[\"location\"]):\n",
    "    loc_cat_dict[loc] = list(set(loc_cat_df_test[loc_cat_df_test[\"location\"] == loc][\"category_id\"]))   \n",
    "loc_cat_matrix = np.zeros([loc_cat_df_test[\"location\"].max()+1, loc_cat_df_test[\"category_id\"].max()+1])\n",
    "loc_cat_matrix.shape\n"
   ]
  },
  {
   "cell_type": "code",
   "execution_count": null,
   "metadata": {},
   "outputs": [],
   "source": [
    "for loc in loc_cat_dict.keys():\n",
    "    for cat in loc_cat_dict[loc]:\n",
    "        loc_cat_matrix[loc, cat] = 1"
   ]
  },
  {
   "cell_type": "code",
   "execution_count": null,
   "metadata": {},
   "outputs": [],
   "source": [
    "fig = plt.figure(figsize=(15, 15))\n",
    "ax = sns.heatmap(loc_cat_matrix)\n",
    "ax.set(xlabel='category', ylabel='location')\n",
    "plt.title('Relation between animal categories and locations')"
   ]
  },
  {
   "cell_type": "code",
   "execution_count": null,
   "metadata": {},
   "outputs": [],
   "source": [
    "df_annotations[2429:2440]"
   ]
  },
  {
   "cell_type": "code",
   "execution_count": null,
   "metadata": {},
   "outputs": [],
   "source": [
    "fig = plt.figure(figsize=(25, 16))\n",
    "#for i,im_path in enumerate(df_annotations[df_annotations.loc[:,\"count\"] == 3].loc[:,\"image_id\"][2429:2440]):\n",
    "for i,im_path in enumerate(df_annotations.loc[:,\"image_id\"][2429:2440]):\n",
    "    ax = fig.add_subplot(4, 4, i+1, xticks=[], yticks=[])\n",
    "    im = Image.open(\"/home/ubuntu/train/\" + im_path + \".jpg\")\n",
    "    im = im.resize((480,270))\n",
    "    plt.imshow(im)"
   ]
  },
  {
   "cell_type": "code",
   "execution_count": null,
   "metadata": {},
   "outputs": [],
   "source": [
    "c = collections.Counter(df_annotations.loc[:,\"count\"])\n",
    "animals_in_pict = list(c.keys())\n",
    "freq = list(c.values())\n",
    "k = zip(animals_in_pict,freq)"
   ]
  },
  {
   "cell_type": "code",
   "execution_count": null,
   "metadata": {},
   "outputs": [],
   "source": [
    "animals_in_pict_df = pd.DataFrame(sorted(k),columns=['num_of_animals','freq'])"
   ]
  },
  {
   "cell_type": "code",
   "execution_count": null,
   "metadata": {},
   "outputs": [],
   "source": [
    "animals_in_pict_df"
   ]
  },
  {
   "cell_type": "code",
   "execution_count": null,
   "metadata": {},
   "outputs": [],
   "source": [
    "species_morethan_10 = list(set(df_annotations[df_annotations.loc[:,\"count\"] >= 10].loc[:,\"category_id\"]))\n",
    "df_categories[df_categories.loc[:,\"id\"].isin(species_morethan_10)].loc[:,[\"id\", \"name\"]]"
   ]
  },
  {
   "cell_type": "code",
   "execution_count": null,
   "metadata": {},
   "outputs": [],
   "source": [
    "species_morethan_30 = list(set(df_annotations[df_annotations.loc[:,\"count\"] >= 30].loc[:,\"category_id\"]))\n",
    "df_categories[df_categories.loc[:,\"id\"].isin(species_morethan_30)].loc[:,[\"id\", \"name\"]]"
   ]
  },
  {
   "cell_type": "code",
   "execution_count": null,
   "metadata": {},
   "outputs": [],
   "source": [
    "df_annotations[(df_annotations.loc[:,\"category_id\"] == 2) & (df_annotations.loc[:,\"count\"] >= 30)].head()"
   ]
  },
  {
   "cell_type": "code",
   "execution_count": null,
   "metadata": {},
   "outputs": [],
   "source": [
    "fig = plt.figure(figsize=(25, 16))\n",
    "#for i,im_path in enumerate(df_annotations[df_annotations.loc[:,\"count\"] == 3].loc[:,\"image_id\"][2429:2440]):\n",
    "for i,im_path in enumerate(df_annotations.loc[:,\"image_id\"][149674:149678]):\n",
    "    ax = fig.add_subplot(4, 4, i+1, xticks=[], yticks=[])\n",
    "    im = Image.open(\"/home/ubuntu/train/\" + im_path + \".jpg\")\n",
    "    im = im.resize((480,270))\n",
    "    plt.imshow(im)"
   ]
  },
  {
   "cell_type": "code",
   "execution_count": null,
   "metadata": {},
   "outputs": [],
   "source": [
    "df_annotations[(df_annotations.loc[:,\"category_id\"] == 71) & (df_annotations.loc[:,\"count\"] >= 30)].head()"
   ]
  },
  {
   "cell_type": "code",
   "execution_count": null,
   "metadata": {},
   "outputs": [],
   "source": [
    "jpeg ='/home/ubuntu/train/8897a9f8-21bc-11ea-a13a-137349068a90.jpg'\n",
    "im = Image.open(jpeg)\n",
    "im = im.resize((480,270))\n",
    "plt.imshow(im)"
   ]
  },
  {
   "cell_type": "code",
   "execution_count": null,
   "metadata": {},
   "outputs": [],
   "source": [
    "!pip install tensorflow-gpu==1.14.0\n",
    "!pip install keras==2.2.4\n",
    "!pip install git+https://github.com/qubvel/efficientnet\n",
    "!ip install -U segmentation-models\n",
    "\n",
    "import cv2\n",
    "from copy import deepcopy\n",
    "import efficientnet.keras as efn \n",
    "import glob\n",
    "from IPython.display import Image\n",
    "import json\n",
    "import keras\n",
    "from keras import backend as K\n",
    "import keras\n",
    "#import keras.backend as K\n",
    "from keras.optimizers import Adam\n",
    "from keras.applications.densenet import DenseNet201\n",
    "from keras.layers import Dense, Flatten, Activation, Dropout, GlobalAveragePooling2D\n",
    "from keras.preprocessing.image import ImageDataGenerator\n",
    "from keras import optimizers, applications\n",
    "from keras.models import Model, load_model\n",
    "from keras.callbacks import Callback, ModelCheckpoint, LearningRateScheduler, TensorBoard, EarlyStopping\n",
    "from keras.utils import Sequence\n",
    "import matplotlib.pyplot as plt\n",
    "import multiprocessing\n",
    "import numpy as np\n",
    "from numpy.random import seed\n",
    "import os\n",
    "import random\n",
    "from sklearn.metrics import precision_recall_curve, auc\n",
    "from sklearn.model_selection import train_test_split\n",
    "from tqdm import tqdm_notebook as tqdm\n",
    "\n",
    "seed(10)\n",
    "\n",
    "%matplotlib inline"
   ]
  },
  {
   "cell_type": "code",
   "execution_count": null,
   "metadata": {},
   "outputs": [],
   "source": [
    "train_anns_df = df_annotations[['image_id','category_id']]\n",
    "train_img_df = df_images[['id', 'file_name']].rename(columns={'id':'image_id'})\n",
    "df_train_file_cat = pd.merge(train_img_df, train_anns_df, on='image_id')\n",
    "df_train_file_cat['category_id']=df_train_file_cat['category_id'].astype(str)\n",
    "df_train_file_cat.head()\n"
   ]
  },
  {
   "cell_type": "code",
   "execution_count": null,
   "metadata": {},
   "outputs": [],
   "source": [
    "df_train_file_cat = pd.merge(megadetector_results_df, df_train_file_cat, on='image_id', how='inner')\n",
    "\n",
    "fig = plt.figure(figsize=(15, 4))\n",
    "ax = sns.countplot(x=\"detected_num\", data=megadetector_results_df)\n",
    "ax.set(ylabel='count')\n",
    "#ax.set(ylim=(0,80000))\n",
    "plt.title('distribution of count per animals each data of train')"
   ]
  },
  {
   "cell_type": "code",
   "execution_count": null,
   "metadata": {},
   "outputs": [],
   "source": [
    "batch_size = 128 #changed from 256\n",
    "img_size = 96\n",
    "lr = 0.0005 #changed from 0.0008\n",
    "nb_classes = 267\n",
    "nb_epochs = 25 #changed from 6, then 15"
   ]
  },
  {
   "cell_type": "code",
   "execution_count": null,
   "metadata": {},
   "outputs": [],
   "source": [
    "checkpoint_filepath = \"/home/ubuntu/epoch_checkpoint\"\n",
    "model_checkpoint_callback = ModelCheckpoint(\n",
    "    filepath=checkpoint_filepath,\n",
    "    save_weights_only=True,\n",
    "    monitor='val_acc',\n",
    "    mode='max',\n",
    "    save_best_only=False)"
   ]
  },
  {
   "cell_type": "code",
   "execution_count": null,
   "metadata": {},
   "outputs": [],
   "source": [
    "%%time\n",
    "\n",
    "train_datagen=ImageDataGenerator(rescale=1./255, \n",
    "    validation_split=0.25,\n",
    "    horizontal_flip = True,    \n",
    "    zoom_range = 0.3,\n",
    "    width_shift_range = 0.3,\n",
    "    height_shift_range=0.3\n",
    "    )\n",
    "\n",
    "train_generator=train_datagen.flow_from_dataframe(    \n",
    "    dataframe=df_train_file_cat[:50000],    \n",
    "    directory=\"/home/ubuntu/train\",\n",
    "    x_col=\"file_name\",\n",
    "    y_col=\"category_id\",\n",
    "    batch_size=batch_size,\n",
    "    shuffle=True,\n",
    "    classes = [ str(i) for i in range(nb_classes)],\n",
    "    class_mode=\"categorical\",    \n",
    "    target_size=(img_size,img_size))\n",
    "\n",
    "test_datagen = ImageDataGenerator(rescale=1./255)\n",
    "\n",
    "valid_generator=test_datagen.flow_from_dataframe(    \n",
    "    dataframe=df_train_file_cat[50000:],    \n",
    "    directory=\"/home/ubuntu/train\",\n",
    "    x_col=\"file_name\",\n",
    "    y_col=\"category_id\",\n",
    "    batch_size=batch_size,\n",
    "    shuffle=True,\n",
    "    classes = [ str(i) for i in range(nb_classes)],\n",
    "    class_mode=\"categorical\",  \n",
    "    target_size=(img_size,img_size))"
   ]
  },
  {
   "cell_type": "code",
   "execution_count": null,
   "metadata": {},
   "outputs": [],
   "source": [
    "from keras import backend as K\n",
    "import efficientnet.keras as efn \n",
    "\n",
    "def get_model():\n",
    "    K.clear_session()\n",
    "    base_model =  efn.EfficientNetB3(weights='imagenet', include_top=False, pooling='avg', input_shape=(img_size, img_size, 3))\n",
    "    x = base_model.output\n",
    "    predictions = Dense(nb_classes, activation=\"softmax\")(x)\n",
    "    return Model(inputs=base_model.input, outputs=predictions)\n",
    "\n",
    "model = get_model()\n",
    "model.compile(optimizers.Adam(lr=lr, decay=1e-6),loss='categorical_crossentropy',metrics=['accuracy'])"
   ]
  },
  {
   "cell_type": "code",
   "execution_count": null,
   "metadata": {},
   "outputs": [],
   "source": [
    "early = EarlyStopping(monitor='val_loss', min_delta=0, patience=3, verbose=1, mode='auto')"
   ]
  },
  {
   "cell_type": "code",
   "execution_count": null,
   "metadata": {},
   "outputs": [],
   "source": [
    "%%time\n",
    "history = model.fit_generator(generator=train_generator,  \n",
    "                                    steps_per_epoch=5,\n",
    "                                    validation_data=valid_generator, \n",
    "                                    validation_steps=2,\n",
    "                                    epochs=nb_epochs,\n",
    "                                    callbacks = [early], #model_checkpoint_callback\n",
    "                                    verbose=2)"
   ]
  },
  {
   "cell_type": "code",
   "execution_count": null,
   "metadata": {},
   "outputs": [],
   "source": [
    "history_df = pd.DataFrame(history.history)\n",
    "history_df[['loss', 'val_loss']].plot()\n",
    "history_df[['acc', 'val_acc']].plot()"
   ]
  },
  {
   "cell_type": "code",
   "execution_count": null,
   "metadata": {},
   "outputs": [],
   "source": [
    "import gc\n",
    "del train_datagen, train_generator\n",
    "gc.collect()"
   ]
  },
  {
   "cell_type": "code",
   "execution_count": null,
   "metadata": {},
   "outputs": [],
   "source": [
    "sam_sub_df = pd.read_csv('/home/ubuntu/sample_submission.csv')\n",
    "sam_sub_df[\"file_name\"] = sam_sub_df[\"Id\"].map(lambda str : str + \".jpg\")\n",
    "sam_sub_df.head()\n"
   ]
  },
  {
   "cell_type": "code",
   "execution_count": null,
   "metadata": {},
   "outputs": [],
   "source": [
    "%%time\n",
    "\n",
    "test_generator = test_datagen.flow_from_dataframe(      \n",
    "    \n",
    "        dataframe=sam_sub_df,    \n",
    "    \n",
    "        directory = \"/home/ubuntu/test\",    \n",
    "        x_col=\"file_name\",\n",
    "        target_size = (img_size,img_size),\n",
    "        batch_size = 1,\n",
    "        classes = [ str(i) for i in range(nb_classes)],\n",
    "        shuffle = False,\n",
    "        class_mode = None\n",
    "        )"
   ]
  },
  {
   "cell_type": "code",
   "execution_count": null,
   "metadata": {},
   "outputs": [],
   "source": [
    "%%time\n",
    "test_generator.reset()\n",
    "predict=model.predict_generator(test_generator, steps = len(test_generator.filenames))\n",
    "predicted_class_indices=np.argmax(predict,axis=1)\n",
    "sam_sub_df[\"Category\"] = predicted_class_indices\n",
    "sam_sub_df = sam_sub_df.loc[:,[\"Id\", \"Category\"]]\n",
    "sam_sub_df.to_csv(\"submission_2.csv\",index=False)"
   ]
  },
  {
   "cell_type": "code",
   "execution_count": null,
   "metadata": {},
   "outputs": [],
   "source": []
  }
 ],
 "metadata": {
  "kernelspec": {
   "display_name": "Python 3",
   "language": "python",
   "name": "python3"
  },
  "language_info": {
   "codemirror_mode": {
    "name": "ipython",
    "version": 3
   },
   "file_extension": ".py",
   "mimetype": "text/x-python",
   "name": "python",
   "nbconvert_exporter": "python",
   "pygments_lexer": "ipython3",
   "version": "3.6.9"
  }
 },
 "nbformat": 4,
 "nbformat_minor": 4
}
